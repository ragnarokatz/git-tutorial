{
 "cells": [
  {
   "cell_type": "markdown",
   "id": "b350ba9e",
   "metadata": {
    "slideshow": {
     "slide_type": "slide"
    }
   },
   "source": [
    "# about git"
   ]
  },
  {
   "cell_type": "markdown",
   "id": "fa79031f",
   "metadata": {
    "slideshow": {
     "slide_type": "subslide"
    }
   },
   "source": [
    "## version control software\n",
    "- a tree of commits in sequence"
   ]
  },
  {
   "cell_type": "markdown",
   "id": "ad24d7c1",
   "metadata": {
    "slideshow": {
     "slide_type": "subslide"
    }
   },
   "source": [
    "## commit: collection of changes"
   ]
  },
  {
   "cell_type": "markdown",
   "id": "c4c87de8",
   "metadata": {
    "slideshow": {
     "slide_type": "subslide"
    }
   },
   "source": [
    "## commit\n",
    "- adding a file\n",
    "- removing a file\n",
    "- renaming a file\n",
    "- modifying a file (+++, ---)"
   ]
  },
  {
   "cell_type": "markdown",
   "id": "c359e808",
   "metadata": {
    "slideshow": {
     "slide_type": "slide"
    }
   },
   "source": [
    "# git vs. clearcase"
   ]
  },
  {
   "cell_type": "markdown",
   "id": "88150d00",
   "metadata": {
    "slideshow": {
     "slide_type": "subslide"
    }
   },
   "source": [
    "## git\n",
    "- offline\n",
    "- distributed\n",
    "\n",
    "## clearcase\n",
    "- network\n",
    "- centralized"
   ]
  },
  {
   "cell_type": "markdown",
   "id": "1918c050",
   "metadata": {
    "slideshow": {
     "slide_type": "slide"
    }
   },
   "source": [
    "## commands"
   ]
  },
  {
   "cell_type": "markdown",
   "id": "1e4ea389",
   "metadata": {
    "slideshow": {
     "slide_type": "subslide"
    }
   },
   "source": [
    "- git status\n",
    "- git push\n",
    "- git pull\n",
    "- git log\n",
    "- git commit"
   ]
  },
  {
   "cell_type": "markdown",
   "id": "f7e751fd",
   "metadata": {
    "slideshow": {
     "slide_type": "slide"
    }
   },
   "source": [
    "## branch\n",
    "- an alias for a particular commit"
   ]
  },
  {
   "cell_type": "markdown",
   "id": "89d1e251",
   "metadata": {
    "slideshow": {
     "slide_type": "subslide"
    }
   },
   "source": [
    "### can remember\n",
    "- fix-bug-in-this-file\n",
    "\n",
    "### can't remember\n",
    "- SLKFJLKSJFD23424jlkdsjfsdlkfj"
   ]
  },
  {
   "cell_type": "markdown",
   "id": "0bbda71f",
   "metadata": {},
   "source": [
    "asfdafsdfsfsaf"
   ]
  },
  {
   "cell_type": "markdown",
   "id": "8639b8e4",
   "metadata": {},
   "source": [
    "afdasfa"
   ]
  }
 ],
 "metadata": {
  "celltoolbar": "Slideshow",
  "kernelspec": {
   "display_name": "Python 3",
   "language": "python",
   "name": "python3"
  },
  "language_info": {
   "codemirror_mode": {
    "name": "ipython",
    "version": 3
   },
   "file_extension": ".py",
   "mimetype": "text/x-python",
   "name": "python",
   "nbconvert_exporter": "python",
   "pygments_lexer": "ipython3",
   "version": "3.6.13"
  }
 },
 "nbformat": 4,
 "nbformat_minor": 5
}
