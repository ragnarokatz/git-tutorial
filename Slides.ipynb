{
 "cells": [
  {
   "cell_type": "markdown",
   "id": "b350ba9e",
   "metadata": {
    "slideshow": {
     "slide_type": "slide"
    }
   },
   "source": [
    "# about git"
   ]
  },
  {
   "cell_type": "markdown",
   "id": "fa79031f",
   "metadata": {
    "slideshow": {
     "slide_type": "subslide"
    }
   },
   "source": [
    "# git vs clearcase"
   ]
  },
  {
   "cell_type": "code",
   "execution_count": null,
   "id": "0e26afe1",
   "metadata": {
    "slideshow": {
     "slide_type": "subslide"
    }
   },
   "outputs": [],
   "source": [
    "wat the lkdfjlksajfsa"
   ]
  },
  {
   "cell_type": "markdown",
   "id": "c359e808",
   "metadata": {
    "slideshow": {
     "slide_type": "slide"
    }
   },
   "source": [
    "# version control software"
   ]
  },
  {
   "cell_type": "code",
   "execution_count": null,
   "id": "0115c117",
   "metadata": {
    "slideshow": {
     "slide_type": "subslide"
    }
   },
   "outputs": [],
   "source": [
    "afdsafad"
   ]
  },
  {
   "cell_type": "code",
   "execution_count": null,
   "id": "752c6ae0",
   "metadata": {
    "slideshow": {
     "slide_type": "subslide"
    }
   },
   "outputs": [],
   "source": [
    "afdasf"
   ]
  },
  {
   "cell_type": "code",
   "execution_count": null,
   "id": "3e0e4484",
   "metadata": {},
   "outputs": [],
   "source": [
    "afdasf"
   ]
  },
  {
   "cell_type": "code",
   "execution_count": null,
   "id": "b849051e",
   "metadata": {},
   "outputs": [],
   "source": [
    "afdasf"
   ]
  },
  {
   "cell_type": "code",
   "execution_count": null,
   "id": "ade8220c",
   "metadata": {},
   "outputs": [],
   "source": [
    "asfdaf"
   ]
  },
  {
   "cell_type": "code",
   "execution_count": null,
   "id": "d2ae14e3",
   "metadata": {},
   "outputs": [],
   "source": [
    "asfdafsdfsfsaf"
   ]
  },
  {
   "cell_type": "code",
   "execution_count": null,
   "id": "1093cd4e",
   "metadata": {},
   "outputs": [],
   "source": [
    "afdasfa"
   ]
  }
 ],
 "metadata": {
  "celltoolbar": "Slideshow",
  "kernelspec": {
   "display_name": "Python 3",
   "language": "python",
   "name": "python3"
  },
  "language_info": {
   "codemirror_mode": {
    "name": "ipython",
    "version": 3
   },
   "file_extension": ".py",
   "mimetype": "text/x-python",
   "name": "python",
   "nbconvert_exporter": "python",
   "pygments_lexer": "ipython3",
   "version": "3.6.13"
  }
 },
 "nbformat": 4,
 "nbformat_minor": 5
}
